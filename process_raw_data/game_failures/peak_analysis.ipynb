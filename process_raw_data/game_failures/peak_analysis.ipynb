{
 "cells": [
  {
   "cell_type": "markdown",
   "metadata": {},
   "source": [
    "# Load Peak Data"
   ]
  },
  {
   "cell_type": "code",
   "execution_count": 8,
   "metadata": {},
   "outputs": [
    {
     "data": {
      "text/html": [
       "<div>\n",
       "<style scoped>\n",
       "    .dataframe tbody tr th:only-of-type {\n",
       "        vertical-align: middle;\n",
       "    }\n",
       "\n",
       "    .dataframe tbody tr th {\n",
       "        vertical-align: top;\n",
       "    }\n",
       "\n",
       "    .dataframe thead th {\n",
       "        text-align: right;\n",
       "    }\n",
       "</style>\n",
       "<table border=\"1\" class=\"dataframe\">\n",
       "  <thead>\n",
       "    <tr style=\"text-align: right;\">\n",
       "      <th></th>\n",
       "      <th>Unnamed: 0</th>\n",
       "      <th>group</th>\n",
       "      <th>timespan</th>\n",
       "      <th>magnitude</th>\n",
       "      <th>drop</th>\n",
       "      <th>shape</th>\n",
       "      <th>startdate</th>\n",
       "      <th>enddate</th>\n",
       "      <th>recoverytime</th>\n",
       "      <th>pre_slope</th>\n",
       "      <th>recovery_slope</th>\n",
       "      <th>pre_post_difference</th>\n",
       "    </tr>\n",
       "  </thead>\n",
       "  <tbody>\n",
       "  </tbody>\n",
       "</table>\n",
       "</div>"
      ],
      "text/plain": [
       "Empty DataFrame\n",
       "Columns: [Unnamed: 0, group, timespan, magnitude, drop, shape, startdate, enddate, recoverytime, pre_slope, recovery_slope, pre_post_difference]\n",
       "Index: []"
      ]
     },
     "execution_count": 8,
     "metadata": {},
     "output_type": "execute_result"
    }
   ],
   "source": [
    "import matplotlib.pyplot as plt\n",
    "import matplotlib\n",
    "matplotlib.use(\"pgf\")\n",
    "# load up the sansmath so that math -> helvet\n",
    "# <- tricky! -- gotta actually tell tex to use!\n",
    "matplotlib.rcParams['text.latex.preamble'] = \"\"\"\n",
    "\\\\usepackage{sansmath}\n",
    "\\\\sansmath\n",
    "\"\"\"\n",
    "matplotlib.rcParams.update({\n",
    "    \"pgf.texsystem\": \"pdflatex\",\n",
    "    'font.family': 'sans-serif',\n",
    "    'text.usetex': True,\n",
    "    'pgf.rcfonts': False,\n",
    "    'axes.unicode_minus': False\n",
    "})\n",
    "from pandas.plotting import register_matplotlib_converters\n",
    "import numpy as np\n",
    "import pandas as pd\n",
    "import glob\n",
    "\n",
    "# --------- Set peak data file here -----------\n",
    "peakData = pd.read_csv('peaks/runescape_peaks_extended.csv')\n",
    "#peakData = pd.read_csv('minecraft_new_hypixel_peaks_extended_15.csv')\n",
    "#peakData = pd.read_csv('MANUAL_HYPIXEL_peaks.csv')\n",
    "final_ts = pd.read_csv('final_ts_runescape.csv', header=0, parse_dates=[0], index_col=0)\n",
    "# ---------------------------------------------\n",
    "\n",
    "peakData['timespan'] = pd.to_timedelta(peakData['timespan'])\n",
    "peakData['startdate'] = pd.to_datetime(peakData['startdate'])\n",
    "peakData['enddate'] = pd.to_datetime(peakData['enddate'])\n",
    "peakData['recoverytime'] = pd.to_timedelta(peakData['recoverytime'])\n",
    "\n",
    "peakData = peakData.loc[peakData['drop'] > 5]\n",
    "peakData = peakData.loc[(peakData['timespan'].astype(int) // 1e9*60) < 1400]\n",
    "\n",
    "#updateData = pd.read_csv('rs_updates.csv')\n",
    "#updateData['date'] = pd.to_datetime(updateData['date'])\n",
    "#peakData = peakData[~peakData['startdate'].dt.date.isin(updateData['date'].dt.date)]\n",
    "\n",
    "#peakData = peakData.loc[peakData['enddate'] > pd.Timestamp(2014,1,1)]\n",
    "#peakData = peakData.loc[np.logical_or(peakData['startdate'].dt.hour < 10, peakData['enddate'].dt.hour > 13)]\n",
    "# peakData = peakData.loc[np.logical_or(peakData['startdate'].dt.hour < 15, peakData['enddate'].dt.hour > 17)]\n",
    "\n",
    "peakData"
   ]
  },
  {
   "cell_type": "code",
   "execution_count": 7,
   "metadata": {},
   "outputs": [
    {
     "data": {
      "text/html": [
       "<div>\n",
       "<style scoped>\n",
       "    .dataframe tbody tr th:only-of-type {\n",
       "        vertical-align: middle;\n",
       "    }\n",
       "\n",
       "    .dataframe tbody tr th {\n",
       "        vertical-align: top;\n",
       "    }\n",
       "\n",
       "    .dataframe thead th {\n",
       "        text-align: right;\n",
       "    }\n",
       "</style>\n",
       "<table border=\"1\" class=\"dataframe\">\n",
       "  <thead>\n",
       "    <tr style=\"text-align: right;\">\n",
       "      <th></th>\n",
       "      <th>Unnamed: 0</th>\n",
       "      <th>group</th>\n",
       "      <th>timespan</th>\n",
       "      <th>magnitude</th>\n",
       "      <th>drop</th>\n",
       "      <th>shape</th>\n",
       "      <th>startdate</th>\n",
       "      <th>enddate</th>\n",
       "      <th>recoverytime</th>\n",
       "      <th>pre_slope</th>\n",
       "      <th>recovery_slope</th>\n",
       "      <th>pre_post_difference</th>\n",
       "    </tr>\n",
       "  </thead>\n",
       "  <tbody>\n",
       "    <tr>\n",
       "      <th>count</th>\n",
       "      <td>0.0</td>\n",
       "      <td>0.0</td>\n",
       "      <td>0</td>\n",
       "      <td>0.0</td>\n",
       "      <td>0.0</td>\n",
       "      <td>0.0</td>\n",
       "      <td>0</td>\n",
       "      <td>0</td>\n",
       "      <td>0</td>\n",
       "      <td>0.0</td>\n",
       "      <td>0.0</td>\n",
       "      <td>0.0</td>\n",
       "    </tr>\n",
       "    <tr>\n",
       "      <th>mean</th>\n",
       "      <td>NaN</td>\n",
       "      <td>NaN</td>\n",
       "      <td>NaT</td>\n",
       "      <td>NaN</td>\n",
       "      <td>NaN</td>\n",
       "      <td>NaN</td>\n",
       "      <td>NaT</td>\n",
       "      <td>NaT</td>\n",
       "      <td>NaT</td>\n",
       "      <td>NaN</td>\n",
       "      <td>NaN</td>\n",
       "      <td>NaN</td>\n",
       "    </tr>\n",
       "    <tr>\n",
       "      <th>min</th>\n",
       "      <td>NaN</td>\n",
       "      <td>NaN</td>\n",
       "      <td>NaT</td>\n",
       "      <td>NaN</td>\n",
       "      <td>NaN</td>\n",
       "      <td>NaN</td>\n",
       "      <td>NaT</td>\n",
       "      <td>NaT</td>\n",
       "      <td>NaT</td>\n",
       "      <td>NaN</td>\n",
       "      <td>NaN</td>\n",
       "      <td>NaN</td>\n",
       "    </tr>\n",
       "    <tr>\n",
       "      <th>25%</th>\n",
       "      <td>NaN</td>\n",
       "      <td>NaN</td>\n",
       "      <td>NaT</td>\n",
       "      <td>NaN</td>\n",
       "      <td>NaN</td>\n",
       "      <td>NaN</td>\n",
       "      <td>NaT</td>\n",
       "      <td>NaT</td>\n",
       "      <td>NaT</td>\n",
       "      <td>NaN</td>\n",
       "      <td>NaN</td>\n",
       "      <td>NaN</td>\n",
       "    </tr>\n",
       "    <tr>\n",
       "      <th>50%</th>\n",
       "      <td>NaN</td>\n",
       "      <td>NaN</td>\n",
       "      <td>NaT</td>\n",
       "      <td>NaN</td>\n",
       "      <td>NaN</td>\n",
       "      <td>NaN</td>\n",
       "      <td>NaT</td>\n",
       "      <td>NaT</td>\n",
       "      <td>NaT</td>\n",
       "      <td>NaN</td>\n",
       "      <td>NaN</td>\n",
       "      <td>NaN</td>\n",
       "    </tr>\n",
       "    <tr>\n",
       "      <th>75%</th>\n",
       "      <td>NaN</td>\n",
       "      <td>NaN</td>\n",
       "      <td>NaT</td>\n",
       "      <td>NaN</td>\n",
       "      <td>NaN</td>\n",
       "      <td>NaN</td>\n",
       "      <td>NaT</td>\n",
       "      <td>NaT</td>\n",
       "      <td>NaT</td>\n",
       "      <td>NaN</td>\n",
       "      <td>NaN</td>\n",
       "      <td>NaN</td>\n",
       "    </tr>\n",
       "    <tr>\n",
       "      <th>90%</th>\n",
       "      <td>NaN</td>\n",
       "      <td>NaN</td>\n",
       "      <td>NaT</td>\n",
       "      <td>NaN</td>\n",
       "      <td>NaN</td>\n",
       "      <td>NaN</td>\n",
       "      <td>NaT</td>\n",
       "      <td>NaT</td>\n",
       "      <td>NaT</td>\n",
       "      <td>NaN</td>\n",
       "      <td>NaN</td>\n",
       "      <td>NaN</td>\n",
       "    </tr>\n",
       "    <tr>\n",
       "      <th>95%</th>\n",
       "      <td>NaN</td>\n",
       "      <td>NaN</td>\n",
       "      <td>NaT</td>\n",
       "      <td>NaN</td>\n",
       "      <td>NaN</td>\n",
       "      <td>NaN</td>\n",
       "      <td>NaT</td>\n",
       "      <td>NaT</td>\n",
       "      <td>NaT</td>\n",
       "      <td>NaN</td>\n",
       "      <td>NaN</td>\n",
       "      <td>NaN</td>\n",
       "    </tr>\n",
       "    <tr>\n",
       "      <th>max</th>\n",
       "      <td>NaN</td>\n",
       "      <td>NaN</td>\n",
       "      <td>NaT</td>\n",
       "      <td>NaN</td>\n",
       "      <td>NaN</td>\n",
       "      <td>NaN</td>\n",
       "      <td>NaT</td>\n",
       "      <td>NaT</td>\n",
       "      <td>NaT</td>\n",
       "      <td>NaN</td>\n",
       "      <td>NaN</td>\n",
       "      <td>NaN</td>\n",
       "    </tr>\n",
       "    <tr>\n",
       "      <th>std</th>\n",
       "      <td>NaN</td>\n",
       "      <td>NaN</td>\n",
       "      <td>NaT</td>\n",
       "      <td>NaN</td>\n",
       "      <td>NaN</td>\n",
       "      <td>NaN</td>\n",
       "      <td>NaN</td>\n",
       "      <td>NaN</td>\n",
       "      <td>NaT</td>\n",
       "      <td>NaN</td>\n",
       "      <td>NaN</td>\n",
       "      <td>NaN</td>\n",
       "    </tr>\n",
       "  </tbody>\n",
       "</table>\n",
       "</div>"
      ],
      "text/plain": [
       "       Unnamed: 0  group timespan  magnitude  drop  shape startdate enddate  \\\n",
       "count         0.0    0.0        0        0.0   0.0    0.0         0       0   \n",
       "mean          NaN    NaN      NaT        NaN   NaN    NaN       NaT     NaT   \n",
       "min           NaN    NaN      NaT        NaN   NaN    NaN       NaT     NaT   \n",
       "25%           NaN    NaN      NaT        NaN   NaN    NaN       NaT     NaT   \n",
       "50%           NaN    NaN      NaT        NaN   NaN    NaN       NaT     NaT   \n",
       "75%           NaN    NaN      NaT        NaN   NaN    NaN       NaT     NaT   \n",
       "90%           NaN    NaN      NaT        NaN   NaN    NaN       NaT     NaT   \n",
       "95%           NaN    NaN      NaT        NaN   NaN    NaN       NaT     NaT   \n",
       "max           NaN    NaN      NaT        NaN   NaN    NaN       NaT     NaT   \n",
       "std           NaN    NaN      NaT        NaN   NaN    NaN       NaN     NaN   \n",
       "\n",
       "      recoverytime  pre_slope  recovery_slope  pre_post_difference  \n",
       "count            0        0.0             0.0                  0.0  \n",
       "mean           NaT        NaN             NaN                  NaN  \n",
       "min            NaT        NaN             NaN                  NaN  \n",
       "25%            NaT        NaN             NaN                  NaN  \n",
       "50%            NaT        NaN             NaN                  NaN  \n",
       "75%            NaT        NaN             NaN                  NaN  \n",
       "90%            NaT        NaN             NaN                  NaN  \n",
       "95%            NaT        NaN             NaN                  NaN  \n",
       "max            NaT        NaN             NaN                  NaN  \n",
       "std            NaT        NaN             NaN                  NaN  "
      ]
     },
     "execution_count": 7,
     "metadata": {},
     "output_type": "execute_result"
    }
   ],
   "source": [
    "peakData.describe(percentiles=[0.25, 0.50, 0.75, 0.90, 0.95])"
   ]
  },
  {
   "cell_type": "code",
   "execution_count": 28,
   "metadata": {},
   "outputs": [
    {
     "name": "stdout",
     "output_type": "stream",
     "text": [
      "-4468.461311677135\n",
      "-4574.076302027101\n",
      "-2467.4922759562105\n",
      "-4448.682283648009\n",
      "-4285.77557075983\n",
      "-3976.5026521620134\n",
      "-3762.5161429770087\n",
      "-3445.5751714217636\n",
      "-3254.913703320589\n",
      "-3002.2669694609967\n",
      "-2841.8806600174667\n",
      "-2637.306057999559\n"
     ]
    },
    {
     "data": {
      "text/plain": [
       "[None, None, None, None, None, None, None, None, None, None, None, None]"
      ]
     },
     "execution_count": 28,
     "metadata": {},
     "output_type": "execute_result"
    }
   ],
   "source": [
    "window_sizes = (5,10,15,20,25,30,35,40,45,50,55,60)\n",
    "\n",
    "def fnc(n):\n",
    "    peakData = pd.read_csv('extendedpeaks/minecraft_new_hypixel_peaks_extended_' + str(n) + '.csv')\n",
    "    #final_ts = pd.read_csv('final_ts_runescape.csv', header=0, parse_dates=[0], index_col=0)\n",
    "    # ---------------------------------------------\n",
    "\n",
    "    peakData['timespan'] = pd.to_timedelta(peakData['timespan'])\n",
    "    peakData['startdate'] = pd.to_datetime(peakData['startdate'])\n",
    "    peakData['enddate'] = pd.to_datetime(peakData['enddate'])\n",
    "    peakData['recoverytime'] = pd.to_timedelta(peakData['recoverytime'])\n",
    "\n",
    "    peakData = peakData.loc[peakData['drop'] > 5]\n",
    "    peakData = peakData.loc[peakData['timespan'].astype(\"timedelta64[m]\") < 1400]\n",
    "\n",
    "    print(peakData['pre_post_difference'].mean())\n",
    "\n",
    "list(map(fnc, window_sizes))"
   ]
  },
  {
   "cell_type": "code",
   "execution_count": 7,
   "metadata": {},
   "outputs": [
    {
     "data": {
      "application/vnd.jupyter.widget-view+json": {
       "model_id": "d39cc28b8e944d0d98f5fe3ea9ca9bdd",
       "version_major": 2,
       "version_minor": 0
      },
      "text/plain": [
       "Canvas(toolbar=Toolbar(toolitems=[('Home', 'Reset original view', 'home', 'home'), ('Back', 'Back to previous …"
      ]
     },
     "metadata": {},
     "output_type": "display_data"
    }
   ],
   "source": [
    "%matplotlib widget\n",
    "\n",
    "rs = (-0.02925765515,-0.0311758589,-0.03121624214,-0.03042876902,-0.02983311627,-0.02851056526,-0.02776347538,-0.0265822657,-0.02585536744,-0.02460348709,-0.02400783435,-0.0232102654)\n",
    "\n",
    "hypixel = (-0.05137049301,-0.05258922001,-0.05269269684,-0.05115204194,-0.04927796174,-0.04572525754,-0.04326480868,-0.03962012509,-0.037424117,-0.03451526858,-0.03267568065,-0.03031870861)\n",
    "\n",
    "minehut = (-0.06832763936,-0.06982751437,-0.06949420882,-0.06741104908,-0.06507791017,-0.06149487543,-0.05924506291,-0.05691192401,-0.05582868094,-0.05391217399,-0.05282893092,-0.05116240313)\n",
    "\n",
    "cubecraft = (-0.05021324127,-0.041226645,-0.03691104793,-0.03173233144,-0.0284829407,-0.02437043054,-0.02249187652,-0.0201056052,-0.01858245329,-0.01619618197,-0.01492688871,-0.01284524777)\n",
    "\n",
    "hive = (-0.01619824975,-0.009676876473,-0.008204308314,-0.005301245372,-0.002356109054,0.001556714911,0.003660383709,0.006226859643,0.008162234938,0.01081285762,0.01215920565,0.01388421407)\n",
    "\n",
    "plt.plot(rs, '-^')\n",
    "ax = plt.gca()\n",
    "ax.set_xticks((0,1,2,3,4,5,6,7,8,9,10,11))\n",
    "ax.set_xticklabels((5,10,15,20,25,30,35,40,45,50,55,60))\n",
    "ax.set_xlabel(\"Window length in minutes\")\n",
    "ax.set_ylabel(\"Percentage difference pre and post-failure\")\n",
    "plt.plot(hypixel, '--.')\n",
    "plt.plot(minehut, '-.x')\n",
    "plt.plot(cubecraft, ':*')\n",
    "plt.plot(hive, '-D')\n",
    "plt.hlines(y=0, colors='gray', linestyles='--', lw=1, xmin=0, xmax=11)\n",
    "ax = plt.gca()\n",
    "ax.yaxis.set_major_formatter(matplotlib.ticker.PercentFormatter(xmax=1, is_latex=False))\n",
    "ax.legend(['Runescape', 'Hypixel', 'Minehut', 'Cubecraft', 'The Hive'])\n",
    "fig = plt.gcf()\n",
    "fig.set_size_inches(5,3.6)\n",
    "plt.savefig('plots/playerdrop.pgf')"
   ]
  },
  {
   "cell_type": "markdown",
   "metadata": {},
   "source": [
    "# Basic Stats"
   ]
  },
  {
   "cell_type": "code",
   "execution_count": 14,
   "metadata": {},
   "outputs": [
    {
     "name": "stdout",
     "output_type": "stream",
     "text": [
      "Total number of failures: 2235\n",
      "Number of complete failures: 200\n",
      "Avg. Interarrival Time: 1 days 05:47:11.709937332\n",
      "Max. Interarrival Time: 46 days 09:08:00\n",
      "Average duration for non critical failures: 0 days 00:09:52.365591397\n",
      "SpearmanrResult(correlation=0.5145964660154593, pvalue=2.2433690501676865e-151)\n"
     ]
    }
   ],
   "source": [
    "from scipy import stats\n",
    "\n",
    "print(\"Total number of failures: \" + str(len(peakData)))\n",
    "print(\"Number of complete failures: \" + str(len(peakData.loc[peakData['drop'] > 95])))\n",
    "print(\"Avg. Interarrival Time: \" + str(peakData['startdate'].diff().mean()))\n",
    "print(\"Max. Interarrival Time: \" + str(peakData['startdate'].diff().max()))\n",
    "print(\"Average duration for non critical failures: \" + str( peakData.loc[peakData['drop'] < 29]['timespan'].mean() ))\n",
    "\n",
    "cor = stats.spearmanr(peakData['drop'], peakData['timespan'].astype(\"timedelta64[m]\"))\n",
    "print(cor)"
   ]
  },
  {
   "cell_type": "markdown",
   "metadata": {},
   "source": [
    "# Distributions of the peak characteristics"
   ]
  },
  {
   "cell_type": "code",
   "execution_count": 15,
   "metadata": {},
   "outputs": [
    {
     "data": {
      "application/vnd.jupyter.widget-view+json": {
       "model_id": "8adc755739024c6d8756f0cab8214581",
       "version_major": 2,
       "version_minor": 0
      },
      "text/plain": [
       "Canvas(toolbar=Toolbar(toolitems=[('Home', 'Reset original view', 'home', 'home'), ('Back', 'Back to previous …"
      ]
     },
     "metadata": {},
     "output_type": "display_data"
    },
    {
     "data": {
      "text/plain": [
       "<AxesSubplot:title={'center':'Shapes'}, ylabel='Frequency'>"
      ]
     },
     "execution_count": 15,
     "metadata": {},
     "output_type": "execute_result"
    }
   ],
   "source": [
    "%matplotlib widget\n",
    "\n",
    "binsize = 100\n",
    "\n",
    "plt.subplot(221)\n",
    "peakData['timespan'].astype(\"timedelta64[m]\").plot.hist(bins=binsize, title=\"Durations\")\n",
    "plt.subplot(222)\n",
    "peakData['magnitude'].plot.hist(bins=binsize, title=\"Magnitudes\")\n",
    "plt.subplot(223)\n",
    "peakData['drop'].plot.hist(bins=binsize, title=\"Drop percentages\")\n",
    "plt.subplot(224)\n",
    "peakData['shape'].plot.hist(bins=binsize, title=\"Shapes\")"
   ]
  },
  {
   "cell_type": "code",
   "execution_count": 16,
   "metadata": {},
   "outputs": [
    {
     "data": {
      "application/vnd.jupyter.widget-view+json": {
       "model_id": "a5a7d7beddcb4827a62ba6a5b245b034",
       "version_major": 2,
       "version_minor": 0
      },
      "text/plain": [
       "Canvas(toolbar=Toolbar(toolitems=[('Home', 'Reset original view', 'home', 'home'), ('Back', 'Back to previous …"
      ]
     },
     "metadata": {},
     "output_type": "display_data"
    },
    {
     "data": {
      "text/plain": [
       "<AxesSubplot:title={'center':'Recovery Time'}, ylabel='Frequency'>"
      ]
     },
     "execution_count": 16,
     "metadata": {},
     "output_type": "execute_result"
    }
   ],
   "source": [
    "%matplotlib widget\n",
    "\n",
    "binsize = 150\n",
    "\n",
    "plt.subplot(221)\n",
    "peakData['pre_slope'].plot.hist(bins=binsize, title=\"Pre-peak sum\")\n",
    "plt.subplot(222)\n",
    "peakData['recovery_slope'].plot.hist(bins=binsize, title=\"Recovery Slope\")\n",
    "plt.subplot(223)\n",
    "peakData['pre_post_difference'].plot.hist(bins=binsize, title=\"Pre Post Diff\")\n",
    "plt.subplot(224)\n",
    "peakData['recoverytime'].astype(\"timedelta64[m]\").plot.hist(bins=binsize, title=\"Recovery Time\")"
   ]
  },
  {
   "cell_type": "code",
   "execution_count": 20,
   "metadata": {},
   "outputs": [
    {
     "data": {
      "application/vnd.jupyter.widget-view+json": {
       "model_id": "506a9612343c4fbcb3071355c262d0f2",
       "version_major": 2,
       "version_minor": 0
      },
      "text/plain": [
       "Canvas(toolbar=Toolbar(toolitems=[('Home', 'Reset original view', 'home', 'home'), ('Back', 'Back to previous …"
      ]
     },
     "metadata": {},
     "output_type": "display_data"
    }
   ],
   "source": [
    "%matplotlib widget\n",
    "\n",
    "ecdf1 = ECDF(peakData['pre_slope'])\n",
    "ecdf2 = ECDF(peakData['recovery_slope'])\n",
    "ecdf3 = ECDF(peakData['pre_post_difference'])\n",
    "ecdf4 = ECDF(peakData['recoverytime'].astype(\"timedelta64[m]\"))\n",
    "\n",
    "plt.subplot(221)\n",
    "plt.plot(ecdf1.x, ecdf1.y)\n",
    "\n",
    "\n",
    "plt.subplot(222)\n",
    "plt.plot(ecdf2.x, ecdf2.y)\n",
    "\n",
    "plt.subplot(223)\n",
    "plt.plot(ecdf3.x, ecdf3.y)\n",
    "\n",
    "plt.subplot(224)\n",
    "plt.plot(ecdf4.x, ecdf4.y)\n",
    "ax = plt.gca()\n",
    "ax.set_xscale('log')"
   ]
  },
  {
   "cell_type": "code",
   "execution_count": 18,
   "metadata": {},
   "outputs": [
    {
     "data": {
      "application/vnd.jupyter.widget-view+json": {
       "model_id": "90e21d118cc14cd69939f04d51fe0d86",
       "version_major": 2,
       "version_minor": 0
      },
      "text/plain": [
       "Canvas(toolbar=Toolbar(toolitems=[('Home', 'Reset original view', 'home', 'home'), ('Back', 'Back to previous …"
      ]
     },
     "metadata": {},
     "output_type": "display_data"
    }
   ],
   "source": [
    "%matplotlib widget\n",
    "plt.scatter(peakData['drop'], peakData['timespan'].astype(\"timedelta64[m]\"), s=4)\n",
    "\n",
    "m, b = np.polyfit(peakData['drop'], peakData['timespan'].astype(\"timedelta64[m]\"), 1)\n",
    "plt.plot(peakData['drop'], m*peakData['drop'] + b, color=\"red\")\n",
    "\n",
    "ax = plt.gca()\n",
    "fig = plt.gcf()\n",
    "fig.set_size_inches(3,3)\n",
    "ax.set_xlabel(\"\\% of affected players\")\n",
    "ax.set_ylabel(\"Failure duration in minutes\")\n",
    "\n",
    "plt.tight_layout()\n",
    "plt.show()\n",
    "#plt.savefig('plots/rs_corr.pgf')"
   ]
  },
  {
   "cell_type": "markdown",
   "metadata": {},
   "source": [
    "# ECDF of failure duration and interarrival time"
   ]
  },
  {
   "cell_type": "code",
   "execution_count": 19,
   "metadata": {},
   "outputs": [
    {
     "data": {
      "application/vnd.jupyter.widget-view+json": {
       "model_id": "21b70def579a431181e75ac53a1d617e",
       "version_major": 2,
       "version_minor": 0
      },
      "text/plain": [
       "Canvas(toolbar=Toolbar(toolitems=[('Home', 'Reset original view', 'home', 'home'), ('Back', 'Back to previous …"
      ]
     },
     "metadata": {},
     "output_type": "display_data"
    }
   ],
   "source": [
    "%matplotlib widget\n",
    "from statsmodels.distributions.empirical_distribution import ECDF\n",
    "\n",
    "#peakData['startdate'].diff().astype(\"timedelta64[m]\").plot.hist(bins=150)\n",
    "\n",
    "ecdf = ECDF(peakData['startdate'].diff().astype(\"timedelta64[s]\"))\n",
    "ecdf2 = ECDF(peakData['timespan'].astype(\"timedelta64[s]\"))\n",
    "# plot the cdf\n",
    "plt.axvline(3600, color='gray', linestyle='--', linewidth=\"1\", label='_nolegend_')\n",
    "plt.axvline(14400, color='gray', linestyle='--', linewidth=\"1\", label='_nolegend_')\n",
    "plt.axvline(86400, color='gray', linestyle='--', linewidth=\"1\", label='_nolegend_')\n",
    "plt.axvline(345600, color='gray', linestyle='--', linewidth=\"1\", label='_nolegend_')\n",
    "\n",
    "plt.text(2200,0.08,'1 Hour',rotation=90, color='gray', size=9)\n",
    "plt.text(9000,0.08,'4 Hours',rotation=90, color='gray', size=9)\n",
    "plt.text(52000,0.08,'1 Day',rotation=90, color='gray', size=9)\n",
    "plt.text(210000,0.08,'4 Days',rotation=90, color='gray', size=9)\n",
    "\n",
    "plt.plot(ecdf.x, ecdf.y)\n",
    "plt.plot(ecdf2.x, ecdf2.y)\n",
    "plt.xlabel(\"Time (s)\")\n",
    "plt.ylabel(\"Cumulative Probability\")\n",
    "\n",
    "\n",
    "\n",
    "ax = plt.gca()\n",
    "ax.set_xscale('log')\n",
    "#ax.set_title(\"ECDF\")\n",
    "ax.legend(['Interarrival Time', 'Duration'], loc=(-0.05, 1.05), ncol=2)\n",
    "fig = plt.gcf()\n",
    "fig.set_size_inches(3.2,3.2)\n",
    "plt.xlim(left=500)\n",
    "plt.tight_layout()\n",
    "plt.show()\n",
    "plt.savefig('plots/rs_ecdf.pgf')"
   ]
  },
  {
   "cell_type": "markdown",
   "metadata": {},
   "source": [
    "# When do failures happen?\n",
    "A heatmap that shows the amount of failures per hour, for every weekday"
   ]
  },
  {
   "cell_type": "code",
   "execution_count": 21,
   "metadata": {
    "tags": []
   },
   "outputs": [
    {
     "data": {
      "application/vnd.jupyter.widget-view+json": {
       "model_id": "085d9e3bf54b4906ab6bb4c475c0cfb9",
       "version_major": 2,
       "version_minor": 0
      },
      "text/plain": [
       "Canvas(toolbar=Toolbar(toolitems=[('Home', 'Reset original view', 'home', 'home'), ('Back', 'Back to previous …"
      ]
     },
     "metadata": {},
     "output_type": "display_data"
    }
   ],
   "source": [
    "%matplotlib widget\n",
    "\n",
    "import datetime\n",
    "import calendar\n",
    "import matplotlib.dates as mdates\n",
    "from mpl_toolkits.axes_grid1 import make_axes_locatable\n",
    "\n",
    "from matplotlib.patches import Circle\n",
    "\n",
    "# ------------------ TRAFFIC HEATMAP ----------------------------------\n",
    "plt.subplot(211)\n",
    "\n",
    "df = pd.DataFrame(final_ts.copy())\n",
    "df.insert(1, 'weekday', df.index.weekday)\n",
    "df.insert(2, 'time', df.index.to_series().apply(lambda x: x.replace(day=1, month=1, year=2020)))\n",
    "\n",
    "lst = []\n",
    "\n",
    "hours = [\"00:00\", \"01:00\", \"02:00\", \"03:00\", \"04:00\", \"05:00\", \"06:00\", \"07:00\", \"08:00\", \"09:00\", \"10:00\", \"11:00\", \"12:00\",\n",
    "\"13:00\", \"14:00\", \"15:00\", \"16:00\", \"17:00\", \"18:00\", \"19:00\", \"20:00\", \"21:00\", \"22:00\", \"23:00\"]\n",
    "weekdays = list(reversed(calendar.day_name))\n",
    "\n",
    "for wd in range(6, -1, -1):\n",
    "    ls = []\n",
    "    for tm in range(0,24):\n",
    "        ls.append(df['0'].where(np.logical_and(df['time'].dt.hour == tm, df['weekday'] == wd)).mean())\n",
    "    lst.append(ls)\n",
    "\n",
    "arr = np.array(lst)\n",
    "\n",
    "#fig, ax = plt.subplots(figsize=(10.5,5.5))\n",
    "fig = plt.gcf()\n",
    "ax = plt.gca()\n",
    "im = ax.imshow(arr, interpolation=\"nearest\", cmap=\"Oranges\")\n",
    "\n",
    "ax.set_xticks(np.arange(len(hours)))\n",
    "ax.set_yticks(np.arange(len(weekdays)))\n",
    "\n",
    "ax.set_xticklabels(hours)\n",
    "ax.set_yticklabels(weekdays)\n",
    "\n",
    "plt.ylabel(\"Day of Week\")\n",
    "\n",
    "# Rotate the tick labels and set their alignment.\n",
    "plt.setp(ax.get_xticklabels(), rotation=45, ha=\"right\",\n",
    "         rotation_mode=\"anchor\")\n",
    "\n",
    "ax.set_title(\"Heatmap of online players\")\n",
    "\n",
    "divider = make_axes_locatable(ax)\n",
    "cax = divider.append_axes(\"right\", size=\"5%\", pad=0.05)\n",
    "\n",
    "cb = plt.colorbar(im, cax=cax)\n",
    "cb.set_label('Average Player Count')\n",
    "fig.tight_layout()\n",
    "\n",
    "circle = Circle((20.2,-1), 2.8, alpha=0.75, fill=False, ec='lime')\n",
    "ax.add_patch(circle)\n",
    "circle = Circle((16,5.2), 2, alpha=0.5, fill=False, ec='blue')\n",
    "ax.add_patch(circle)\n",
    "\n",
    "plt.show()\n",
    "\n",
    "\n",
    "\n",
    "\n",
    "\n",
    "# ------------------ FAILURES HEATMAP ----------------------------------\n",
    "plt.subplot(212)\n",
    "\n",
    "df = peakData.copy()#pd.DataFrame(peakData)\n",
    "#df.insert(1, 'weekday', df['startdate'].values.weekday)\n",
    "df.insert(1, 'weekday', df['startdate'].apply(lambda x: x.weekday()))\n",
    "df.insert(2, 'time', df['startdate'].apply(lambda x: x.replace(day=1, month=1, year=2020)))\n",
    "\n",
    "lst = []\n",
    "\n",
    "#hours = range(0,24)\n",
    "hours = [\"00:00\", \"01:00\", \"02:00\", \"03:00\", \"04:00\", \"05:00\", \"06:00\", \"07:00\", \"08:00\", \"09:00\", \"10:00\", \"11:00\", \"12:00\",\n",
    "\"13:00\", \"14:00\", \"15:00\", \"16:00\", \"17:00\", \"18:00\", \"19:00\", \"20:00\", \"21:00\", \"22:00\", \"23:00\"]\n",
    "weekdays = list(reversed(calendar.day_name))\n",
    "\n",
    "for wd in range(6, -1, -1):\n",
    "    ls = []\n",
    "    for tm in range(0,24):\n",
    "        #ls.append(df['0'].where(np.logical_and(df['time'].dt.hour == tm, df['weekday'] == wd)).mean())\n",
    "        ls.append( df['weekday'].where(np.logical_and(df['time'].dt.hour == tm, df['weekday'] == wd)).count() )\n",
    "    lst.append(ls)\n",
    "\n",
    "arr = np.array(lst)\n",
    "\n",
    "#fig, ax = plt.subplots(figsize=(10.5,5.5))\n",
    "fig = plt.gcf()\n",
    "ax = plt.gca()\n",
    "\n",
    "im = ax.imshow(arr, interpolation=\"nearest\", cmap=\"Oranges\")\n",
    "\n",
    "ax.set_xticks(np.arange(len(hours)))\n",
    "ax.set_yticks(np.arange(len(weekdays)))\n",
    "\n",
    "ax.set_xticklabels(hours)\n",
    "ax.set_yticklabels(weekdays)\n",
    "\n",
    "plt.xlabel(\"Time of Day\")\n",
    "plt.ylabel(\"Day of Week\")\n",
    "\n",
    "# Rotate the tick labels and set their alignment.\n",
    "plt.setp(ax.get_xticklabels(), rotation=45, ha=\"right\",\n",
    "         rotation_mode=\"anchor\")\n",
    "\n",
    "ax.set_title(\"Heatmap of failure counts\")\n",
    "\n",
    "divider = make_axes_locatable(ax)\n",
    "cax = divider.append_axes(\"right\", size=\"5%\", pad=0.05)\n",
    "\n",
    "cb = plt.colorbar(im, cax=cax)\n",
    "cb.set_label('Number of Failures')\n",
    "fig.set_size_inches(6,4)\n",
    "fig.tight_layout()\n",
    "\n",
    "#plt.Circle((0,0),1000, fc='blue', ec='red')\n",
    "circle = Circle((20.2,-1), 2.8, alpha=0.5, fill=False, ec='lime')\n",
    "ax.add_patch(circle)\n",
    "circle = Circle((16,5.2), 2, alpha=0.5, fill=False, ec='blue')\n",
    "ax.add_patch(circle)\n",
    "\n",
    "plt.show()\n",
    "plt.savefig('plots/rs_heat.pgf')"
   ]
  },
  {
   "cell_type": "markdown",
   "metadata": {},
   "source": [
    "## Trying to discretize the colors of the heatmap"
   ]
  },
  {
   "cell_type": "code",
   "execution_count": 22,
   "metadata": {},
   "outputs": [
    {
     "data": {
      "application/vnd.jupyter.widget-view+json": {
       "model_id": "9aed069ee64d4ca9b78cbee7809023a6",
       "version_major": 2,
       "version_minor": 0
      },
      "text/plain": [
       "Canvas(toolbar=Toolbar(toolitems=[('Home', 'Reset original view', 'home', 'home'), ('Back', 'Back to previous …"
      ]
     },
     "metadata": {},
     "output_type": "display_data"
    }
   ],
   "source": [
    "%matplotlib widget\n",
    "\n",
    "import datetime\n",
    "import calendar\n",
    "import matplotlib.dates as mdates\n",
    "from mpl_toolkits.axes_grid1 import make_axes_locatable\n",
    "\n",
    "from matplotlib.patches import Circle\n",
    "import matplotlib.colors as colors\n",
    "\n",
    "from mycolorpy import colorlist as mcp\n",
    "from matplotlib.ticker import FuncFormatter\n",
    "\n",
    "# ------------------ TRAFFIC HEATMAP ----------------------------------\n",
    "plt.subplot(211)\n",
    "\n",
    "df = pd.DataFrame(final_ts.copy())\n",
    "df.insert(1, 'weekday', df.index.weekday)\n",
    "df.insert(2, 'time', df.index.to_series().apply(lambda x: x.replace(day=1, month=1, year=2020)))\n",
    "\n",
    "lst = []\n",
    "\n",
    "hours = [\"00:00\", \"01:00\", \"02:00\", \"03:00\", \"04:00\", \"05:00\", \"06:00\", \"07:00\", \"08:00\", \"09:00\", \"10:00\", \"11:00\", \"12:00\",\n",
    "\"13:00\", \"14:00\", \"15:00\", \"16:00\", \"17:00\", \"18:00\", \"19:00\", \"20:00\", \"21:00\", \"22:00\", \"23:00\"]\n",
    "weekdays = list(reversed(calendar.day_name))\n",
    "\n",
    "for wd in range(6, -1, -1):\n",
    "    ls = []\n",
    "    for tm in range(0,24):\n",
    "        ls.append(df['0'].where(np.logical_and(df['time'].dt.hour == tm, df['weekday'] == wd)).mean())\n",
    "    lst.append(ls)\n",
    "\n",
    "arr = np.array(lst)\n",
    "\n",
    "#fig, ax = plt.subplots(figsize=(10.5,5.5))\n",
    "fig = plt.gcf()\n",
    "ax = plt.gca()\n",
    "\n",
    "NUM_COLORS = 7\n",
    "cmap = matplotlib.colors.ListedColormap(mcp.gen_color(cmap=\"Oranges\",n=NUM_COLORS))\n",
    "norm = matplotlib.colors.BoundaryNorm(np.linspace(np.amin(arr),np.amax(arr),NUM_COLORS), NUM_COLORS)\n",
    "\n",
    "im = ax.imshow(arr, interpolation=\"nearest\", cmap=cmap, norm=norm)\n",
    "\n",
    "ax.set_xticks(np.arange(len(hours)))\n",
    "ax.set_yticks(np.arange(len(weekdays)))\n",
    "\n",
    "ax.set_xticklabels(hours)\n",
    "ax.set_yticklabels(weekdays)\n",
    "\n",
    "plt.ylabel(\"Day of Week\")\n",
    "\n",
    "# Rotate the tick labels and set their alignment.\n",
    "plt.setp(ax.get_xticklabels(), rotation=45, ha=\"right\",\n",
    "         rotation_mode=\"anchor\")\n",
    "\n",
    "ax.set_title(\"Heatmap of online players\")\n",
    "\n",
    "divider = make_axes_locatable(ax)\n",
    "cax = divider.append_axes(\"right\", size=\"5%\", pad=0.05)\n",
    "\n",
    "\n",
    "cb = plt.colorbar(im, cax=cax, format=FuncFormatter(lambda x, pos: '{:,.0f}'.format(x/1000) + 'K'))\n",
    "cb.set_label('Average Player Count')\n",
    "fig.tight_layout()\n",
    "\n",
    "circle = Circle((20.2,-1), 2.8, alpha=0.75, fill=False, ec='lime')\n",
    "ax.add_patch(circle)\n",
    "circle = Circle((16,5.2), 2, alpha=0.5, fill=False, ec='blue')\n",
    "ax.add_patch(circle)\n",
    "\n",
    "plt.show()\n",
    "\n",
    "\n",
    "\n",
    "\n",
    "\n",
    "# ------------------ FAILURES HEATMAP ----------------------------------\n",
    "plt.subplot(212)\n",
    "\n",
    "df = peakData.copy()#pd.DataFrame(peakData)\n",
    "#df.insert(1, 'weekday', df['startdate'].values.weekday)\n",
    "df.insert(1, 'weekday', df['startdate'].apply(lambda x: x.weekday()))\n",
    "df.insert(2, 'time', df['startdate'].apply(lambda x: x.replace(day=1, month=1, year=2020)))\n",
    "\n",
    "lst = []\n",
    "\n",
    "#hours = range(0,24)\n",
    "hours = [\"00:00\", \"01:00\", \"02:00\", \"03:00\", \"04:00\", \"05:00\", \"06:00\", \"07:00\", \"08:00\", \"09:00\", \"10:00\", \"11:00\", \"12:00\",\n",
    "\"13:00\", \"14:00\", \"15:00\", \"16:00\", \"17:00\", \"18:00\", \"19:00\", \"20:00\", \"21:00\", \"22:00\", \"23:00\"]\n",
    "weekdays = list(reversed(calendar.day_name))\n",
    "\n",
    "for wd in range(6, -1, -1):\n",
    "    ls = []\n",
    "    for tm in range(0,24):\n",
    "        #ls.append(df['0'].where(np.logical_and(df['time'].dt.hour == tm, df['weekday'] == wd)).mean())\n",
    "        ls.append( df['weekday'].where(np.logical_and(df['time'].dt.hour == tm, df['weekday'] == wd)).count() )\n",
    "    lst.append(ls)\n",
    "\n",
    "arr = np.array(lst)\n",
    "\n",
    "#fig, ax = plt.subplots(figsize=(10.5,5.5))\n",
    "fig = plt.gcf()\n",
    "ax = plt.gca()\n",
    "\n",
    "cmap = matplotlib.colors.ListedColormap(mcp.gen_color(cmap=\"Oranges\",n=NUM_COLORS))\n",
    "norm = matplotlib.colors.BoundaryNorm(np.linspace(np.amin(arr),np.amax(arr),NUM_COLORS), NUM_COLORS)\n",
    "\n",
    "im = ax.imshow(arr, interpolation=\"nearest\", cmap=cmap, norm=norm)\n",
    "\n",
    "ax.set_xticks(np.arange(len(hours)))\n",
    "ax.set_yticks(np.arange(len(weekdays)))\n",
    "\n",
    "ax.set_xticklabels(hours)\n",
    "ax.set_yticklabels(weekdays)\n",
    "\n",
    "plt.xlabel(\"Time of Day\")\n",
    "plt.ylabel(\"Day of Week\")\n",
    "\n",
    "# Rotate the tick labels and set their alignment.\n",
    "plt.setp(ax.get_xticklabels(), rotation=45, ha=\"right\",\n",
    "         rotation_mode=\"anchor\")\n",
    "\n",
    "ax.set_title(\"Heatmap of failure counts\")\n",
    "\n",
    "divider = make_axes_locatable(ax)\n",
    "cax = divider.append_axes(\"right\", size=\"5%\", pad=0.05)\n",
    "\n",
    "cb = plt.colorbar(im, cax=cax)#, format=FuncFormatter(lambda x, pos: '{:,.0f}'.format(x/1000) + 'K'))\n",
    "cb.set_label('Number of Failures')\n",
    "fig.set_size_inches(6,4)\n",
    "fig.tight_layout()\n",
    "\n",
    "#plt.Circle((0,0),1000, fc='blue', ec='red')\n",
    "circle = Circle((20.2,-1), 2.8, alpha=0.5, fill=False, ec='lime')\n",
    "ax.add_patch(circle)\n",
    "circle = Circle((16,5.2), 2, alpha=0.5, fill=False, ec='blue')\n",
    "ax.add_patch(circle)\n",
    "\n",
    "plt.show()\n",
    "plt.savefig('plots/rs_heat.pgf')"
   ]
  },
  {
   "cell_type": "code",
   "execution_count": 23,
   "metadata": {},
   "outputs": [
    {
     "name": "stdout",
     "output_type": "stream",
     "text": [
      "Min of tiem series:  -1.0 Max:  278861.0\n"
     ]
    }
   ],
   "source": [
    "print(\"Min of tiem series: \", final_ts.min()[0], \"Max: \", final_ts.max()[0])"
   ]
  },
  {
   "cell_type": "code",
   "execution_count": 24,
   "metadata": {},
   "outputs": [
    {
     "data": {
      "application/vnd.jupyter.widget-view+json": {
       "model_id": "3b300ab4e5054e6985b897105b0b5290",
       "version_major": 2,
       "version_minor": 0
      },
      "text/plain": [
       "Canvas(toolbar=Toolbar(toolitems=[('Home', 'Reset original view', 'home', 'home'), ('Back', 'Back to previous …"
      ]
     },
     "metadata": {},
     "output_type": "display_data"
    }
   ],
   "source": [
    "%matplotlib widget\n",
    "\n",
    "import datetime\n",
    "import calendar\n",
    "import matplotlib.dates as mdates\n",
    "from mpl_toolkits.axes_grid1 import make_axes_locatable\n",
    "\n",
    "updateData = pd.read_csv('rs_updates.csv')\n",
    "updateData['date'] = pd.to_datetime(updateData['date'])\n",
    "peakData2 = peakData[~peakData['startdate'].dt.date.isin(updateData['date'].dt.date)]\n",
    "\n",
    "# ------------------ TRAFFIC HEATMAP ----------------------------------\n",
    "plt.subplot(211)\n",
    "\n",
    "df = peakData.copy()#pd.DataFrame(peakData)\n",
    "#df.insert(1, 'weekday', df['startdate'].values.weekday)\n",
    "df.insert(1, 'weekday', df['startdate'].apply(lambda x: x.weekday()))\n",
    "df.insert(2, 'time', df['startdate'].apply(lambda x: x.replace(day=1, month=1, year=2020)))\n",
    "\n",
    "lst = []\n",
    "\n",
    "#hours = range(0,24)\n",
    "hours = [\"00:00\", \"01:00\", \"02:00\", \"03:00\", \"04:00\", \"05:00\", \"06:00\", \"07:00\", \"08:00\", \"09:00\", \"10:00\", \"11:00\", \"12:00\",\n",
    "\"13:00\", \"14:00\", \"15:00\", \"16:00\", \"17:00\", \"18:00\", \"19:00\", \"20:00\", \"21:00\", \"22:00\", \"23:00\"]\n",
    "weekdays = list(reversed(calendar.day_name))\n",
    "\n",
    "for wd in range(6, -1, -1):\n",
    "    ls = []\n",
    "    for tm in range(0,24):\n",
    "        #ls.append(df['0'].where(np.logical_and(df['time'].dt.hour == tm, df['weekday'] == wd)).mean())\n",
    "        ls.append( df['weekday'].where(np.logical_and(df['time'].dt.hour == tm, df['weekday'] == wd)).count() )\n",
    "    lst.append(ls)\n",
    "\n",
    "arr = np.array(lst)\n",
    "\n",
    "#fig, ax = plt.subplots(figsize=(10.5,5.5))\n",
    "fig = plt.gcf()\n",
    "ax = plt.gca()\n",
    "\n",
    "NUM_COLORS = 7\n",
    "cmap = matplotlib.colors.ListedColormap(mcp.gen_color(cmap=\"Oranges\",n=NUM_COLORS))\n",
    "norm = matplotlib.colors.BoundaryNorm(np.linspace(np.amin(arr),np.amax(arr),NUM_COLORS), NUM_COLORS)\n",
    "\n",
    "im = ax.imshow(arr, interpolation=\"nearest\", cmap=cmap, norm=norm)\n",
    "\n",
    "\n",
    "ax.set_xticks(np.arange(len(hours)))\n",
    "ax.set_yticks(np.arange(len(weekdays)))\n",
    "\n",
    "ax.set_xticklabels(hours)\n",
    "ax.set_yticklabels(weekdays)\n",
    "\n",
    "plt.ylabel(\"Day of Week\")\n",
    "\n",
    "# Rotate the tick labels and set their alignment.\n",
    "plt.setp(ax.get_xticklabels(), rotation=45, ha=\"right\",\n",
    "         rotation_mode=\"anchor\")\n",
    "\n",
    "ax.set_title(\"Failures including updates\")\n",
    "\n",
    "divider = make_axes_locatable(ax)\n",
    "cax = divider.append_axes(\"right\", size=\"5%\", pad=0.05)\n",
    "\n",
    "cb = plt.colorbar(im, cax=cax)\n",
    "cb.set_label('Number of Failures')\n",
    "fig.set_size_inches(6,4)\n",
    "\n",
    "\n",
    "# ------------------ FAILURES HEATMAP ----------------------------------\n",
    "plt.subplot(212)\n",
    "\n",
    "df = peakData2.copy()#pd.DataFrame(peakData)\n",
    "#df.insert(1, 'weekday', df['startdate'].values.weekday)\n",
    "df.insert(1, 'weekday', df['startdate'].apply(lambda x: x.weekday()))\n",
    "df.insert(2, 'time', df['startdate'].apply(lambda x: x.replace(day=1, month=1, year=2020)))\n",
    "\n",
    "lst = []\n",
    "\n",
    "#hours = range(0,24)\n",
    "hours = [\"00:00\", \"01:00\", \"02:00\", \"03:00\", \"04:00\", \"05:00\", \"06:00\", \"07:00\", \"08:00\", \"09:00\", \"10:00\", \"11:00\", \"12:00\",\n",
    "\"13:00\", \"14:00\", \"15:00\", \"16:00\", \"17:00\", \"18:00\", \"19:00\", \"20:00\", \"21:00\", \"22:00\", \"23:00\"]\n",
    "weekdays = list(reversed(calendar.day_name))\n",
    "\n",
    "for wd in range(6, -1, -1):\n",
    "    ls = []\n",
    "    for tm in range(0,24):\n",
    "        #ls.append(df['0'].where(np.logical_and(df['time'].dt.hour == tm, df['weekday'] == wd)).mean())\n",
    "        ls.append( df['weekday'].where(np.logical_and(df['time'].dt.hour == tm, df['weekday'] == wd)).count() )\n",
    "    lst.append(ls)\n",
    "\n",
    "arr = np.array(lst)\n",
    "\n",
    "#fig, ax = plt.subplots(figsize=(10.5,5.5))\n",
    "fig = plt.gcf()\n",
    "ax = plt.gca()\n",
    "\n",
    "#cmap = matplotlib.colors.ListedColormap(mcp.gen_color(cmap=\"Oranges\",n=NUM_COLORS))\n",
    "#norm = matplotlib.colors.BoundaryNorm(np.linspace(np.amin(arr),np.amax(arr),NUM_COLORS), NUM_COLORS)\n",
    "\n",
    "im = ax.imshow(arr, interpolation=\"nearest\", cmap=cmap, norm=norm)\n",
    "\n",
    "\n",
    "ax.set_xticks(np.arange(len(hours)))\n",
    "ax.set_yticks(np.arange(len(weekdays)))\n",
    "\n",
    "ax.set_xticklabels(hours)\n",
    "ax.set_yticklabels(weekdays)\n",
    "\n",
    "plt.xlabel(\"Time of Day\")\n",
    "plt.ylabel(\"Day of Week\")\n",
    "\n",
    "# Rotate the tick labels and set their alignment.\n",
    "plt.setp(ax.get_xticklabels(), rotation=45, ha=\"right\",\n",
    "         rotation_mode=\"anchor\")\n",
    "\n",
    "ax.set_title(\"Failures excluding updates\")\n",
    "\n",
    "divider = make_axes_locatable(ax)\n",
    "cax = divider.append_axes(\"right\", size=\"5%\", pad=0.05)\n",
    "\n",
    "cb = plt.colorbar(im, cax=cax)\n",
    "cb.set_label('Number of Failures')\n",
    "fig.set_size_inches(6,4)\n",
    "fig.tight_layout()\n",
    "plt.show()\n",
    "plt.savefig('plots/rs_heat2.pgf')"
   ]
  },
  {
   "cell_type": "markdown",
   "metadata": {},
   "source": [
    "# Failures or Updates?"
   ]
  },
  {
   "cell_type": "code",
   "execution_count": 25,
   "metadata": {},
   "outputs": [
    {
     "name": "stdout",
     "output_type": "stream",
     "text": [
      "2235 1457\n",
      "778\n"
     ]
    }
   ],
   "source": [
    "updates = peakData[~peakData['startdate'].dt.date.isin(updateData['date'].dt.date)]\n",
    "updates.describe()\n",
    "\n",
    "c1 = peakData.count()[0]\n",
    "c2 = peakData2.count()[0]\n",
    "\n",
    "print(c1, c2)\n",
    "print(c1-c2)\n"
   ]
  },
  {
   "cell_type": "code",
   "execution_count": 27,
   "metadata": {},
   "outputs": [
    {
     "name": "stdout",
     "output_type": "stream",
     "text": [
      "65.19015659955258\n"
     ]
    }
   ],
   "source": [
    "print(updates.count()[0] / peakData.count()[0] * 100)"
   ]
  },
  {
   "cell_type": "code",
   "execution_count": null,
   "metadata": {},
   "outputs": [],
   "source": []
  }
 ],
 "metadata": {
  "interpreter": {
   "hash": "8bdd04edfd31a38c65275f65bd9648ca40800b2fe384e4a81a44e3d39658d76c"
  },
  "kernelspec": {
   "display_name": "Python 3 (ipykernel)",
   "language": "python",
   "name": "python3"
  },
  "language_info": {
   "codemirror_mode": {
    "name": "ipython",
    "version": 3
   },
   "file_extension": ".py",
   "mimetype": "text/x-python",
   "name": "python",
   "nbconvert_exporter": "python",
   "pygments_lexer": "ipython3",
   "version": "3.9.7"
  }
 },
 "nbformat": 4,
 "nbformat_minor": 4
}
