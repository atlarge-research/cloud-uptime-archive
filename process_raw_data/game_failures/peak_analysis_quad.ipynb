{
 "metadata": {
  "language_info": {
   "codemirror_mode": {
    "name": "ipython",
    "version": 3
   },
   "file_extension": ".py",
   "mimetype": "text/x-python",
   "name": "python",
   "nbconvert_exporter": "python",
   "pygments_lexer": "ipython3",
   "version": "3.8.5"
  },
  "orig_nbformat": 2,
  "kernelspec": {
   "name": "python3",
   "display_name": "Python 3.8.5 64-bit ('base': conda)"
  },
  "interpreter": {
   "hash": "2c849083521eda5a65ad42de022766a29d6e707347fcbb28c1498394b4ac1ebb"
  }
 },
 "nbformat": 4,
 "nbformat_minor": 2,
 "cells": [
  {
   "source": [
    "# Load Peak Data"
   ],
   "cell_type": "markdown",
   "metadata": {}
  },
  {
   "cell_type": "code",
   "execution_count": 1,
   "metadata": {},
   "outputs": [
    {
     "output_type": "stream",
     "name": "stderr",
     "text": [
      "<ipython-input-1-eb9f4e0d7ee6>:4: MatplotlibDeprecationWarning: Support for setting the 'text.latex.preamble' or 'pgf.preamble' rcParam to a list of strings is deprecated since 3.3 and will be removed two minor releases later; set it to a single string instead.\n  matplotlib.rcParams['text.latex.preamble'] = [\n"
     ]
    }
   ],
   "source": [
    "import matplotlib.pyplot as plt\n",
    "import matplotlib\n",
    "matplotlib.use(\"pgf\")\n",
    "matplotlib.rcParams['text.latex.preamble'] = [\n",
    "    r'\\usepackage{sansmath}',  # load up the sansmath so that math -> helvet\n",
    "    r'\\sansmath'               # <- tricky! -- gotta actually tell tex to use!\n",
    "]\n",
    "matplotlib.rcParams.update({\n",
    "    \"pgf.texsystem\": \"pdflatex\",\n",
    "    'font.family': 'sans-serif',\n",
    "    'text.usetex': True,\n",
    "    'pgf.rcfonts': False,\n",
    "})\n",
    "from pandas.plotting import register_matplotlib_converters\n",
    "import numpy as np\n",
    "import pandas as pd\n",
    "import glob\n",
    "\n",
    "# --------- Set peak data file here -----------\n",
    "peakData = [{\"name\": \"Hypixel\", \"data\": pd.read_csv('peaks/hypixel_peaks.csv', parse_dates=[\"startdate\", \"enddate\"])},\n",
    "{\"name\": \"Minehut\", \"data\": pd.read_csv('peaks/minehut_peaks.csv', parse_dates=[\"startdate\", \"enddate\"])},\n",
    "{\"name\": \"Cubecraft\", \"data\": pd.read_csv('peaks/cubecraft_peaks.csv', parse_dates=[\"startdate\", \"enddate\"])},\n",
    "{\"name\": \"The Hive\", \"data\": pd.read_csv('peaks/hive_peaks.csv', parse_dates=[\"startdate\", \"enddate\"])}\n",
    "]\n",
    "# ---------------------------------------------\n",
    "\n",
    "for item in peakData:\n",
    "    item[\"data\"]['timespan'] = pd.to_timedelta(item[\"data\"]['timespan'])\n",
    "\n",
    "combinedPeaks = pd.concat([x[\"data\"] for x in peakData])\n",
    "\n",
    "#peakData['timespan'] = pd.to_timedelta(peakData['timespan'])\n",
    "#peakData['startdate'] = pd.to_datetime(peakData['startdate'])\n",
    "#peakData['enddate'] = pd.to_datetime(peakData['enddate'])"
   ]
  },
  {
   "cell_type": "code",
   "execution_count": 27,
   "metadata": {},
   "outputs": [
    {
     "output_type": "stream",
     "name": "stdout",
     "text": [
      "Hypixel\n       Unnamed: 0     group                   timespan     magnitude  \\\ncount    91.00000  91.00000                         91     91.000000   \nmean     45.00000  45.00000  0 days 00:20:35.604395604  24541.637885   \nstd      26.41338  26.41338  0 days 00:17:40.791328093  19077.137454   \nmin       0.00000   0.00000            0 days 00:04:00   2609.200000   \n25%      22.50000  22.50000            0 days 00:10:00  10623.275000   \n50%      45.00000  45.00000            0 days 00:16:00  16104.500000   \n75%      67.50000  67.50000            0 days 00:24:00  31167.250000   \n90%      81.00000  81.00000            0 days 00:42:00  59135.216216   \n95%      85.50000  85.50000            0 days 00:55:00  67909.887500   \nmax      90.00000  90.00000            0 days 01:40:00  76589.250000   \n\n             drop        shape  \ncount   91.000000    91.000000  \nmean    26.285977  -681.201658  \nstd     18.593783  1500.440909  \nmin      1.949910 -3511.684375  \n25%     14.179359 -1295.244507  \n50%     22.308735  -708.717857  \n75%     31.935609  -441.027500  \n90%     53.002850  -199.760937  \n95%     59.542921  2370.787500  \nmax    100.000000  6960.525000  \n\n\nMinehut\n       Unnamed: 0       group                   timespan     magnitude  \\\ncount  275.000000  275.000000                        275    275.000000   \nmean   137.000000  137.000000  0 days 00:24:10.472727272   4269.384180   \nstd     79.529869   79.529869  0 days 00:41:32.550242225   4434.816195   \nmin      0.000000    0.000000            0 days 00:04:00    640.656433   \n25%     68.500000   68.500000            0 days 00:08:00   1315.629308   \n50%    137.000000  137.000000            0 days 00:12:00   2581.775000   \n75%    205.500000  205.500000            0 days 00:24:00   5324.402733   \n90%    246.600000  246.600000  0 days 00:48:23.999999999  10603.730958   \n95%    260.300000  260.300000            0 days 01:15:12  13609.698191   \nmax    274.000000  274.000000            0 days 07:04:00  22676.870968   \n\n             drop        shape  \ncount  275.000000   275.000000  \nmean    40.583892  -152.242451  \nstd     33.693627   428.253901  \nmin      3.046366 -2666.436298  \n25%     11.645674  -251.264419  \n50%     25.468500  -121.704167  \n75%     72.243517   -19.890053  \n90%     96.462409   237.308088  \n95%     99.863875   570.972329  \nmax    100.000000  1080.657143  \n\n\nCubecraft\n       Unnamed: 0      group                   timespan     magnitude  \\\ncount   52.000000  52.000000                         52     52.000000   \nmean    25.500000  25.500000            0 days 00:32:30   6957.957018   \nstd     15.154757  15.154757  0 days 00:36:16.262311179   6843.969577   \nmin      0.000000   0.000000            0 days 00:04:00    997.285897   \n25%     12.750000  12.750000            0 days 00:09:30   2901.681250   \n50%     25.500000  25.500000            0 days 00:19:00   5258.208333   \n75%     38.250000  38.250000            0 days 00:45:00   7290.225000   \n90%     45.900000  45.900000            0 days 01:01:48  15698.752500   \n95%     48.450000  48.450000  0 days 01:25:11.999999999  24556.297500   \nmax     51.000000  51.000000            0 days 03:40:00  32001.225000   \n\n             drop        shape  \ncount   52.000000    52.000000  \nmean    27.337579   -26.258226  \nstd     23.082993   616.428105  \nmin      4.021382 -1473.487500  \n25%     13.015532  -173.593750  \n50%     17.449414   -81.138786  \n75%     33.172760   -13.225939  \n90%     64.140300   121.422750  \n95%     75.509726  1434.759183  \nmax    100.000000  2294.416667  \n\n\nThe Hive\n       Unnamed: 0      group                   timespan     magnitude  \\\ncount   73.000000  73.000000                         73     73.000000   \nmean    36.000000  36.000000  0 days 00:27:36.986301369   6813.959573   \nstd     21.217131  21.217131  0 days 00:54:58.645633240   6766.574006   \nmin      0.000000   0.000000            0 days 00:04:00   1205.750000   \n25%     18.000000  18.000000            0 days 00:06:00   2845.379487   \n50%     36.000000  36.000000            0 days 00:08:00   3877.450000   \n75%     54.000000  54.000000            0 days 00:18:00   8501.200000   \n90%     64.800000  64.800000  0 days 01:09:11.999999999  13687.313462   \n95%     68.400000  68.400000  0 days 01:57:11.999999999  18056.070000   \nmax     72.000000  72.000000            0 days 06:04:00  37597.125000   \n\n            drop        shape  \ncount  73.000000    73.000000  \nmean   37.234846    -7.769149  \nstd    35.769205   765.453167  \nmin     4.513762 -1488.086466  \n25%     9.697489  -193.909091  \n50%    15.837013   -58.020000  \n75%    64.730969     7.812500  \n90%    99.761118   182.383750  \n95%    99.901890  1145.673750  \nmax    99.996880  4712.508333  \n\n\n       Unnamed: 0       group                   timespan     magnitude  \\\ncount  491.000000  491.000000                        491    491.000000   \nmean    93.124236   93.124236  0 days 00:24:54.256619144   8689.618148   \nstd     78.974594   78.974594  0 days 00:40:10.822284846  12162.306769   \nmin      0.000000    0.000000            0 days 00:04:00    640.656433   \n25%     30.000000   30.000000            0 days 00:08:00   1909.862500   \n50%     64.000000   64.000000            0 days 00:12:00   3875.850000   \n75%    151.500000  151.500000            0 days 00:26:00  10193.254167   \n90%    225.000000  225.000000            0 days 00:52:00  19693.750000   \n95%    249.500000  249.500000            0 days 01:19:00  32139.775000   \nmax    274.000000  274.000000            0 days 07:04:00  76589.250000   \n\n             drop        shape  \ncount  491.000000   491.000000  \nmean    36.033182  -215.455398  \nstd     31.293490   833.342196  \nmin      1.949910 -3511.684375  \n25%     11.299004  -428.126761  \n50%     22.994126  -143.945000  \n75%     54.098111   -28.269188  \n90%     94.053815   186.737500  \n95%     99.785822   698.146300  \nmax    100.000000  6960.525000  \n"
     ]
    }
   ],
   "source": [
    "#[x[\"data\"].describe() for x in peakData]\n",
    "#peakData.describe()\n",
    "for item in peakData:\n",
    "    data = item['data']\n",
    "    print(item['name'])\n",
    "    print(data.describe(percentiles=[0.25, 0.50, 0.75, 0.90, 0.95]))\n",
    "    print(\"\\n\")\n",
    "\n",
    "print(combinedPeaks.describe(percentiles=[0.25, 0.50, 0.75, 0.90, 0.95]))"
   ]
  },
  {
   "source": [
    "# Basic Stats"
   ],
   "cell_type": "markdown",
   "metadata": {}
  },
  {
   "cell_type": "code",
   "execution_count": 28,
   "metadata": {},
   "outputs": [
    {
     "output_type": "stream",
     "name": "stdout",
     "text": [
      "Hypixel:\nTotal number of failures: 91\nNumber of complete failures: 1\nAvg. Interarrival Time: 3 days 02:23:30.666666666\nMax. Interarrival Time: 15 days 08:16:00\nAverage duration for non critical failures: 0 days 00:14:04.528301886\n\n\nMinehut:\nTotal number of failures: 275\nNumber of complete failures: 33\nAvg. Interarrival Time: 1 days 00:56:03.065693430\nMax. Interarrival Time: 13 days 10:14:00\nAverage duration for non critical failures: 0 days 00:12:41.503759398\n\n\nCubecraft:\nTotal number of failures: 52\nNumber of complete failures: 1\nAvg. Interarrival Time: 5 days 11:39:17.647058823\nMax. Interarrival Time: 31 days 22:16:00\nAverage duration for non critical failures: 0 days 00:20:42.352941176\n\n\nThe Hive:\nTotal number of failures: 73\nNumber of complete failures: 13\nAvg. Interarrival Time: 4 days 00:06:03.333333333\nMax. Interarrival Time: 40 days 05:56:00\nAverage duration for non critical failures: 0 days 00:09:45.714285714\n\n\n"
     ]
    }
   ],
   "source": [
    "for item in peakData:\n",
    "    print(item[\"name\"] + \":\")\n",
    "    print(\"Total number of failures: \" + str(len(item[\"data\"])))\n",
    "    print(\"Number of complete failures: \" + str(len(item[\"data\"].loc[item[\"data\"]['drop'] > 95])))\n",
    "    print(\"Avg. Interarrival Time: \" + str(item[\"data\"]['startdate'].diff().mean()))\n",
    "    print(\"Max. Interarrival Time: \" + str(item[\"data\"]['startdate'].diff().max()))\n",
    "    print(\"Average duration for non critical failures: \" + str( item[\"data\"].loc[item[\"data\"]['drop'] < 25]['timespan'].mean() ))\n",
    "    #print(item[\"data\"]['startdate'].diff().sort_values(ascending=False))\n",
    "    print(\"\\n\")\n",
    "\n"
   ]
  },
  {
   "source": [
    "# Distributions of the peak characteristics"
   ],
   "cell_type": "markdown",
   "metadata": {}
  },
  {
   "cell_type": "code",
   "execution_count": 29,
   "metadata": {},
   "outputs": [
    {
     "output_type": "display_data",
     "data": {
      "text/plain": "Canvas(toolbar=Toolbar(toolitems=[('Home', 'Reset original view', 'home', 'home'), ('Back', 'Back to previous …",
      "application/vnd.jupyter.widget-view+json": {
       "version_major": 2,
       "version_minor": 0,
       "model_id": "3ab84641c3b342228e092b11f9bbf498"
      }
     },
     "metadata": {}
    },
    {
     "output_type": "execute_result",
     "data": {
      "text/plain": [
       "<AxesSubplot:title={'center':'Shapes'}, ylabel='Frequency'>"
      ]
     },
     "metadata": {},
     "execution_count": 29
    }
   ],
   "source": [
    "%matplotlib widget\n",
    "\n",
    "dataIndex = 1\n",
    "binsize = 100\n",
    "\n",
    "plt.subplot(221)\n",
    "peakData[dataIndex]['data']['timespan'].astype(\"timedelta64[m]\").plot.hist(bins=binsize, title=\"Durations\")\n",
    "plt.subplot(222)\n",
    "peakData[dataIndex]['data']['magnitude'].plot.hist(bins=binsize, title=\"Magnitudes\")\n",
    "plt.subplot(223)\n",
    "peakData[dataIndex]['data']['drop'].plot.hist(bins=binsize, title=\"Drop percentages\")\n",
    "plt.subplot(224)\n",
    "peakData[dataIndex]['data']['shape'].plot.hist(bins=binsize, title=\"Shapes\")"
   ]
  },
  {
   "source": [
    "# ECDF of failure duration and interarrival time"
   ],
   "cell_type": "markdown",
   "metadata": {}
  },
  {
   "cell_type": "code",
   "execution_count": 5,
   "metadata": {},
   "outputs": [
    {
     "output_type": "display_data",
     "data": {
      "text/plain": "Canvas(toolbar=Toolbar(toolitems=[('Home', 'Reset original view', 'home', 'home'), ('Back', 'Back to previous …",
      "application/vnd.jupyter.widget-view+json": {
       "version_major": 2,
       "version_minor": 0,
       "model_id": "4349aad33a0f40fba5775fc2e1fbe636"
      }
     },
     "metadata": {}
    }
   ],
   "source": [
    "%matplotlib widget\n",
    "from statsmodels.distributions.empirical_distribution import ECDF\n",
    "\n",
    "#peakData['startdate'].diff().astype(\"timedelta64[m]\").plot.hist(bins=150)\n",
    "\n",
    "for i, item in enumerate(peakData):\n",
    "    data = item['data']\n",
    "    ecdf = ECDF(data['startdate'].diff().astype(\"timedelta64[s]\"))\n",
    "    ecdf2 = ECDF(data['timespan'].astype(\"timedelta64[s]\"))\n",
    "    # plot the cdf\n",
    "    plt.subplot(221 + i)\n",
    "\n",
    "    plt.axvline(3600, color='gray', linestyle='--', linewidth=\"1\", label='_nolegend_')\n",
    "    plt.axvline(14400, color='gray', linestyle='--', linewidth=\"1\", label='_nolegend_')\n",
    "    plt.axvline(86400, color='gray', linestyle='--', linewidth=\"1\", label='_nolegend_')\n",
    "    plt.axvline(345600, color='gray', linestyle='--', linewidth=\"1\", label='_nolegend_')\n",
    "\n",
    "    plt.text(2200,0.08,'1 Hour',rotation=90, color='gray', size=9)\n",
    "    plt.text(9000,0.08,'4 Hours',rotation=90, color='gray', size=9)\n",
    "    plt.text(52000,0.08,'1 Day',rotation=90, color='gray', size=9)\n",
    "    plt.text(210000,0.08,'4 Days',rotation=90, color='gray', size=9)\n",
    "\n",
    "    plt.plot(ecdf.x, ecdf.y)\n",
    "    plt.plot(ecdf2.x, ecdf2.y)\n",
    "    if (i > 1):\n",
    "        plt.xlabel(\"Time (s)\")\n",
    "    if (i % 2 == 0):    \n",
    "        plt.ylabel(\"Cumulative Probability\")\n",
    "    ax = plt.gca()\n",
    "    ax.set_xscale('log')\n",
    "    ax.set_title(item[\"name\"])\n",
    "\n",
    "    plt.xlim(left=500)\n",
    "    plt.show()\n",
    "    \n",
    "\n",
    "plt.tight_layout()\n",
    "plt.subplots_adjust(top=0.87)\n",
    "ax.legend(['Interarrival Time', 'Duration'], loc=(-0.62, 2.55), ncol=2)\n",
    "fig = plt.gcf()\n",
    "fig.set_size_inches(5.3,5.5)\n",
    "plt.show()\n",
    "plt.savefig('plots/mc_ecdf.pgf')"
   ]
  },
  {
   "cell_type": "code",
   "execution_count": 31,
   "metadata": {},
   "outputs": [
    {
     "output_type": "stream",
     "name": "stdout",
     "text": [
      "KstestResult(statistic=0.4305694305694306, pvalue=6.5076832811428176e-12)\nKstestResult(statistic=0.17032967032967034, pvalue=0.26197026585473937)\nKstestResult(statistic=0.11681469215715791, pvalue=0.5839828935534844)\nKstestResult(statistic=0.42475524475524473, pvalue=1.2227630730166084e-07)\nKstestResult(statistic=0.4485678704856787, pvalue=4.919553653337516e-11)\nKstestResult(statistic=0.17623814541622762, pvalue=0.263646585716242)\n0.15446083596768528\n0.43463084860345136\n"
     ]
    }
   ],
   "source": [
    "from scipy.stats import kstest\n",
    "\n",
    "\n",
    "d1 = peakData[0]['data']['startdate'].diff().astype(\"timedelta64[s]\")\n",
    "d2 = peakData[1]['data']['startdate'].diff().astype(\"timedelta64[s]\")\n",
    "d3 = peakData[2]['data']['startdate'].diff().astype(\"timedelta64[s]\")\n",
    "d4 = peakData[3]['data']['startdate'].diff().astype(\"timedelta64[s]\")\n",
    "print(kstest(d1, d2))\n",
    "print(kstest(d1, d3))\n",
    "print(kstest(d1, d4))\n",
    "print(kstest(d2, d3))\n",
    "print(kstest(d2, d4))\n",
    "print(kstest(d3, d4))\n",
    "\n",
    "avg_sim = (kstest(d1, d3).statistic + kstest(d1, d4).statistic + kstest(d3, d4).statistic) / 3 \n",
    "avg_diff = (kstest(d1, d2).statistic + kstest(d2, d3).statistic + kstest(d2, d4).statistic) / 3\n",
    "\n",
    "print(avg_sim)\n",
    "print(avg_diff)\n"
   ]
  },
  {
   "source": [
    "# Correlation plots for drop and duration"
   ],
   "cell_type": "markdown",
   "metadata": {}
  },
  {
   "cell_type": "code",
   "execution_count": 38,
   "metadata": {},
   "outputs": [
    {
     "output_type": "display_data",
     "data": {
      "text/plain": "Canvas(toolbar=Toolbar(toolitems=[('Home', 'Reset original view', 'home', 'home'), ('Back', 'Back to previous …",
      "application/vnd.jupyter.widget-view+json": {
       "version_major": 2,
       "version_minor": 0,
       "model_id": "5b6e7ffe02c74514b52785e1157052f5"
      }
     },
     "metadata": {}
    },
    {
     "output_type": "stream",
     "name": "stdout",
     "text": [
      "HypixelSpearmanrResult(correlation=0.5778994350577826, pvalue=1.9982788588574052e-09)\n",
      "MinehutSpearmanrResult(correlation=0.4604685414699176, pvalue=7.727739801241559e-16)\n",
      "CubecraftSpearmanrResult(correlation=0.5212435243260515, pvalue=7.429404520591825e-05)\n",
      "The HiveSpearmanrResult(correlation=0.6014989705931603, pvalue=1.8262007448579775e-08)\n"
     ]
    }
   ],
   "source": [
    "%matplotlib widget\n",
    "from scipy import stats\n",
    "\n",
    "for i, item in enumerate(peakData):\n",
    "    data = item['data']\n",
    "    # plot the cdf\n",
    "    plt.subplot(221 + i)\n",
    "\n",
    "    plt.scatter(data['drop'], data['timespan'].astype(\"timedelta64[m]\"), s=4)\n",
    "\n",
    "    m, b = np.polyfit(data['drop'], data['timespan'].astype(\"timedelta64[m]\"), 1)\n",
    "    plt.plot(data['drop'], m*data['drop'] + b, color=\"red\")\n",
    "\n",
    "    ax = plt.gca()\n",
    "    fig = plt.gcf()\n",
    "    fig.set_size_inches(4.5,4.5)\n",
    "\n",
    "    if (i > 1):\n",
    "        ax.set_xlabel(\"% of affected players\")\n",
    "    if (i % 2 == 0):    \n",
    "        ax.set_ylabel(\"Failure duration (min.)\")\n",
    "\n",
    "    ax.set_title(item[\"name\"])\n",
    "    # ax.legend(['Interarrival Time', 'Duration'])\n",
    "    plt.tight_layout()\n",
    "    plt.show()\n",
    "    plt.savefig('plots/mc_corr.pgf')\n",
    "\n",
    "    cor = stats.spearmanr(data['drop'], data['timespan'].astype(\"timedelta64[m]\"))\n",
    "    print(item[\"name\"] + str(cor))"
   ]
  },
  {
   "source": [
    "# When do failures happen?\n",
    "A heatmap that shows the amount of failures per hour, for every weekday"
   ],
   "cell_type": "markdown",
   "metadata": {}
  },
  {
   "cell_type": "code",
   "execution_count": 32,
   "metadata": {},
   "outputs": [
    {
     "output_type": "display_data",
     "data": {
      "text/plain": "Canvas(toolbar=Toolbar(toolitems=[('Home', 'Reset original view', 'home', 'home'), ('Back', 'Back to previous …",
      "application/vnd.jupyter.widget-view+json": {
       "version_major": 2,
       "version_minor": 0,
       "model_id": "819d61eea0f943f799f22d5543c524be"
      }
     },
     "metadata": {}
    }
   ],
   "source": [
    "%matplotlib widget\n",
    "\n",
    "import datetime\n",
    "import calendar\n",
    "import matplotlib.dates as mdates\n",
    "from mpl_toolkits.axes_grid1 import make_axes_locatable\n",
    "from matplotlib.ticker import FuncFormatter\n",
    "import matplotlib.colors as colors\n",
    "from mycolorpy import colorlist as mcp\n",
    "import matplotlib.cm as cm\n",
    "\n",
    "tsses = [\"final_ts_hypixel.csv\", \"final_ts_minehut.csv\", \"final_ts_cubecraft.csv\", \"final_ts_hive.csv\"]\n",
    "\n",
    "for i, item in enumerate(peakData):\n",
    "    data = item['data']\n",
    "\n",
    "\n",
    "    # ------------------ TRAFFIC HEATMAP ----------------------------------\n",
    "    plt.subplot(421 + i*2)\n",
    "\n",
    "    df = pd.DataFrame(pd.read_csv(tsses[i], header=0, parse_dates=[0], index_col=0))\n",
    "    df.insert(1, 'weekday', df.index.weekday)\n",
    "    df.insert(2, 'time', df.index.to_series().apply(lambda x: x.replace(day=1, month=1, year=2020)))\n",
    "\n",
    "    lst = []\n",
    "\n",
    "    hours = [\"00\", \"01\", \"02\", \"03\", \"04\", \"05\", \"06\", \"07\", \"08\", \"09\", \"10\", \"11\", \"12\",\n",
    "    \"13\", \"14\", \"15\", \"16\", \"17\", \"18\", \"19\", \"20\", \"21\", \"22\", \"23\"]\n",
    "    weekdays = list(reversed(calendar.day_abbr))\n",
    "\n",
    "    for wd in range(6, -1, -1):\n",
    "        ls = []\n",
    "        for tm in range(0,24):\n",
    "            ls.append(df['0'].where(np.logical_and(df['time'].dt.hour == tm, df['weekday'] == wd)).mean())\n",
    "        lst.append(ls)\n",
    "\n",
    "    arr = np.array(lst)\n",
    "\n",
    "    #fig, ax = plt.subplots(figsize=(10.5,5.5))\n",
    "    fig = plt.gcf()\n",
    "    ax = plt.gca()\n",
    "\n",
    "    NUM_COLORS = 7\n",
    "    cmap = matplotlib.colors.ListedColormap(mcp.gen_color(cmap=\"Oranges\",n=NUM_COLORS))\n",
    "    norm = matplotlib.colors.BoundaryNorm(np.linspace(np.amin(arr),np.amax(arr),NUM_COLORS), NUM_COLORS)\n",
    "\n",
    "    im = ax.imshow(arr, interpolation=\"nearest\", cmap=cmap, norm=norm)\n",
    "\n",
    "    ax.set_xticks(np.arange(len(hours)))\n",
    "    ax.set_yticks(np.arange(len(weekdays)))\n",
    "\n",
    "    ax.set_xticklabels(hours)\n",
    "    ax.set_yticklabels(weekdays)\n",
    "\n",
    "    plt.ylabel(\"Day of Week\")\n",
    "    if (i == 3):\n",
    "        plt.xlabel(\"Time of Day (Hour)\")\n",
    "    else:\n",
    "        #ax.get_xaxis().set_visible(False)\n",
    "        #ax.set_xticklabels([])\n",
    "        pass\n",
    "\n",
    "    # Rotate the tick labels and set their alignment.\n",
    "    plt.setp(ax.get_xticklabels(), rotation=45, ha=\"right\",\n",
    "            rotation_mode=\"anchor\")\n",
    "\n",
    "    ax.set_title(item[\"name\"] + \" average online player counts\")\n",
    "\n",
    "    divider = make_axes_locatable(ax)\n",
    "    cax = divider.append_axes(\"right\", size=\"5%\", pad=0.05)\n",
    "\n",
    "    #cb = plt.colorbar(im, cax=cax)\n",
    "    cb = plt.colorbar(im, cax=cax, format=FuncFormatter(lambda x, pos: '{:,.0f}'.format(x/1000) + 'K'))\n",
    "    #cb.set_label('Average Player Count')\n",
    "    #fig.tight_layout()\n",
    "    fig = plt.gcf()  \n",
    "    fig.set_size_inches(4,3)\n",
    "\n",
    "    plt.show()\n",
    "\n",
    "\n",
    "    # ------------------ FAILURES HEATMAP ----------------------------------\n",
    "    plt.subplot(421 + i*2 + 1)\n",
    "\n",
    "    df = data.copy()#pd.DataFrame(peakData)\n",
    "    #df.insert(1, 'weekday', df['startdate'].values.weekday)\n",
    "    df.insert(1, 'weekday', df['startdate'].apply(lambda x: x.weekday()))\n",
    "    df.insert(2, 'time', df['startdate'].apply(lambda x: x.replace(day=1, month=1, year=2020)))\n",
    "\n",
    "    lst = []\n",
    "\n",
    "    #hours = range(0,24)\n",
    "    hours = [\"00\", \"01\", \"02\", \"03\", \"04\", \"05\", \"06\", \"07\", \"08\", \"09\", \"10\", \"11\", \"12\",\n",
    "    \"13\", \"14\", \"15\", \"16\", \"17\", \"18\", \"19\", \"20\", \"21\", \"22\", \"23\"]\n",
    "    weekdays = list(reversed(calendar.day_abbr))\n",
    "\n",
    "    for wd in range(6, -1, -1):\n",
    "        ls = []\n",
    "        for tm in range(0,24):\n",
    "            #ls.append(df['0'].where(np.logical_and(df['time'].dt.hour == tm, df['weekday'] == wd)).mean())\n",
    "            ls.append( df['weekday'].where(np.logical_and(df['time'].dt.hour == tm, df['weekday'] == wd)).count() )\n",
    "        lst.append(ls)\n",
    "\n",
    "    arr = np.array(lst)\n",
    "\n",
    "    #fig, ax = plt.subplots(figsize=(10.5,5.5))\n",
    "    fig = plt.gcf()\n",
    "    ax = plt.gca()\n",
    "\n",
    "    if (i==0):\n",
    "        NUM_COLORS = 5\n",
    "    elif (i==1):\n",
    "        NUM_COLORS = 5\n",
    "    elif (i==2):\n",
    "        NUM_COLORS = 7\n",
    "    elif (i==3):\n",
    "        NUM_COLORS = 5\n",
    "\n",
    "    cmap = matplotlib.colors.ListedColormap(mcp.gen_color(cmap=\"Oranges\",n=NUM_COLORS))\n",
    "    norm = matplotlib.colors.BoundaryNorm(np.linspace(np.amin(arr),np.amax(arr),NUM_COLORS), NUM_COLORS)\n",
    "\n",
    "    im = ax.imshow(arr, interpolation=\"nearest\", cmap=cmap, norm=norm)\n",
    "\n",
    "    ax.set_xticks(np.arange(len(hours)))\n",
    "    ax.set_yticks(np.arange(len(weekdays)))\n",
    "\n",
    "    ax.set_xticklabels(hours)\n",
    "    ax.set_yticklabels(weekdays)\n",
    "\n",
    "    if (i == 3):\n",
    "        plt.xlabel(\"Time of Day (Hour)\")\n",
    "    else:\n",
    "        #ax.get_xaxis().set_visible(False)\n",
    "        #ax.set_xticklabels([])\n",
    "        pass\n",
    "\n",
    "    # Rotate the tick labels and set their alignment.\n",
    "    plt.setp(ax.get_xticklabels(), rotation=45, ha=\"right\",\n",
    "            rotation_mode=\"anchor\")\n",
    "\n",
    "\n",
    "    ax.set_title(item[\"name\"] + \" failure counts\")\n",
    "\n",
    "    divider = make_axes_locatable(ax)\n",
    "    cax = divider.append_axes(\"right\", size=\"5%\", pad=0.05)\n",
    "\n",
    "\n",
    "    def colorbar_index(ncolors, cmap):\n",
    "        mappable = cm.ScalarMappable(cmap=cmap)\n",
    "        mappable.set_array([])\n",
    "        mappable.set_clim(-0.5, ncolors+0.5)\n",
    "        colorbar = plt.colorbar(mappable, cax=cax)\n",
    "        colorbar.set_ticks(np.linspace(0, ncolors, ncolors))\n",
    "        colorbar.set_ticklabels(range(ncolors))\n",
    "\n",
    "    def colorbar_index2(ncolors, cmap):\n",
    "        mappable = cm.ScalarMappable(cmap=cmap)\n",
    "        mappable.set_array([])\n",
    "        mappable.set_clim(0, ncolors*2)\n",
    "        colorbar = plt.colorbar(mappable, cax=cax, format=FuncFormatter(lambda x, pos: '{:,.0f}'.format(x)))\n",
    "        colorbar.set_ticks(np.round(np.linspace(0, ncolors*2, ncolors+1)))\n",
    "        #colorbar.set_ticklabels(range(ncolors*2))\n",
    "        colorbar.set_ticklabels(np.round(np.linspace(0, ncolors*2, ncolors+1)))\n",
    "\n",
    "    if (i==1):\n",
    "        colorbar_index2(ncolors=NUM_COLORS, cmap=cmap)  \n",
    "    else:\n",
    "        colorbar_index(ncolors=NUM_COLORS, cmap=cmap)  \n",
    "    # cb = plt.colorbar(im, cax=cax)\n",
    "\n",
    "    # labels = np.linspace(0,(NUM_COLORS),NUM_COLORS+1)\n",
    "    # print(labels)\n",
    "    # loc    = labels + .4\n",
    "    # cb.set_ticks(loc)\n",
    "    # cb.set_ticklabels(labels)\n",
    "\n",
    "\n",
    "    fig = plt.gcf()  \n",
    "    fig.set_size_inches(4,3)\n",
    "    #cb.set_label('Number of Failures')\n",
    "    #fig.tight_layout()\n",
    "\n",
    "\n",
    "fig = plt.gcf()  \n",
    "fig.set_size_inches(9,6.5)\n",
    "fig.tight_layout()\n",
    "plt.show()\n",
    "plt.savefig('plots/mc_heat.pgf')"
   ]
  },
  {
   "cell_type": "code",
   "execution_count": null,
   "metadata": {},
   "outputs": [],
   "source": []
  }
 ]
}