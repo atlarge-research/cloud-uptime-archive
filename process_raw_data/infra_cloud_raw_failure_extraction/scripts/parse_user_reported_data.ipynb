{
 "cells": [
  {
   "cell_type": "code",
   "execution_count": 2,
   "metadata": {},
   "outputs": [],
   "source": [
    "import pandas as pd\n",
    "import json, os\n",
    "from datetime import datetime\n",
    "import numpy as np"
   ]
  },
  {
   "cell_type": "code",
   "execution_count": 3,
   "metadata": {},
   "outputs": [],
   "source": [
    "providers = {\n",
    "    'aws': 'aws-amazon-web-services-reports',\n",
    "    'gcp': 'google-cloud-reports',\n",
    "    'azure': 'windows-azure-reports'\n",
    "}"
   ]
  },
  {
   "cell_type": "code",
   "execution_count": 8,
   "metadata": {},
   "outputs": [],
   "source": [
    "df = pd.DataFrame(columns={'event_id': [], 'timestamp': [], 'count' : [], 'provider': []})\n",
    "\n",
    "\n",
    "for provider, reports in providers.items():\n",
    "    path = os.getcwd() + \"/down-detector/\" + reports\n",
    "    provider_html_pages = os.listdir(path)\n",
    "    event_id = 1\n",
    "    for provider_page in provider_html_pages:\n",
    "        file = open(path + \"/\" + provider_page, \"r\")\n",
    "        json_obj = json.load(file)\n",
    "        counts_obj = json_obj[\"counts\"]\n",
    "        \n",
    "        for count in counts_obj:\n",
    "            timestamp = datetime.strptime(count['x'], '%Y-%m-%dT%H:%M:%S%z').timestamp()\n",
    "            nr_report = count['y']\n",
    "            df = df.append({'timestamp': timestamp, 'event_id': event_id, 'provider': provider, 'count': nr_report}, ignore_index=True)\n",
    "        \n",
    "        event_id += 1"
   ]
  },
  {
   "cell_type": "code",
   "execution_count": 10,
   "metadata": {},
   "outputs": [],
   "source": [
    "df = df.sort_values('timestamp').reset_index(drop=True, inplace=False)\n",
    "df.to_csv('down_detector_outage_count.csv', index=False)"
   ]
  },
  {
   "cell_type": "code",
   "execution_count": 11,
   "metadata": {},
   "outputs": [],
   "source": [
    "df_reasons = pd.DataFrame(columns={'report_id': [], 'event_id': [], 'timestamp': [], 'count' : [], 'provider': [], 'cause': [], 'percent': []})\n",
    "\n",
    "report_id = 0\n",
    "\n",
    "for provider, reports in providers.items():\n",
    "    path = os.getcwd() + \"/down-detector/\" + reports\n",
    "    provider_html_pages = os.listdir(path)\n",
    "    event_id = 1\n",
    "    for provider_page in provider_html_pages:\n",
    "        file = open(path + \"/\" + provider_page, \"r\")\n",
    "        json_obj = json.load(file)\n",
    "        counts_obj = json_obj[\"counts\"]\n",
    "        reasons_obj = json_obj.get(\"reasons\")\n",
    "        for count in counts_obj:\n",
    "            timestamp = datetime.strptime(count['x'], '%Y-%m-%dT%H:%M:%S%z').timestamp()\n",
    "            nr_report = count['y']\n",
    "            if reasons_obj != None:\n",
    "                for reason in reasons_obj:\n",
    "                    cause = list(reason.keys())[0]\n",
    "                    percent = float(list(reason.values())[0].split(\"%\")[0]) / 100 \n",
    "                    df_reasons = df_reasons.append({'report_id': report_id, 'event_id': event_id, 'timestamp': timestamp, 'count': nr_report, 'provider': provider, 'cause': cause, 'percent': percent}, ignore_index=True)\n",
    "                    \n",
    "                report_id += 1\n",
    "                \n",
    "            else:\n",
    "                df_reasons = df_reasons.append({'report_id': report_id, 'event_id': event_id, 'timestamp': timestamp, 'count': nr_report, 'provider': provider, 'cause': np.NaN, 'percent': np.NaN}, ignore_index=True)\n",
    "                report_id += 1\n",
    "        \n",
    "        event_id += 1"
   ]
  },
  {
   "cell_type": "code",
   "execution_count": 12,
   "metadata": {},
   "outputs": [],
   "source": [
    "df_reasons.sort_values('timestamp').reset_index(drop=True, inplace=True)\n",
    "df_reasons.to_csv('down_detector_reported_problem_count.csv', index=False)"
   ]
  },
  {
   "cell_type": "code",
   "execution_count": null,
   "metadata": {},
   "outputs": [],
   "source": []
  }
 ],
 "metadata": {
  "kernelspec": {
   "display_name": "Python 3",
   "language": "python",
   "name": "python3"
  },
  "language_info": {
   "codemirror_mode": {
    "name": "ipython",
    "version": 3
   },
   "file_extension": ".py",
   "mimetype": "text/x-python",
   "name": "python",
   "nbconvert_exporter": "python",
   "pygments_lexer": "ipython3",
   "version": "3.8.5"
  }
 },
 "nbformat": 4,
 "nbformat_minor": 4
}
