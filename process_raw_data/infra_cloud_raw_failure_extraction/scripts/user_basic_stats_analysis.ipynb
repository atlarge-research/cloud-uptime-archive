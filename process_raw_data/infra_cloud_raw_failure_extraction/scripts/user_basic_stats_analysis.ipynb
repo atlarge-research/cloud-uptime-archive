{
 "cells": [
  {
   "cell_type": "code",
   "execution_count": null,
   "metadata": {},
   "outputs": [],
   "source": [
    "import pandas as pd\n",
    "import numpy as np\n",
    "import os\n",
    "from pathlib import Path\n",
    "\n",
    "datasets_path = str(Path(os.getcwd()).parent) + \"/datasets/\"\n",
    "df = pd.read_csv(datasets_path + \"down_detector_outage_count.csv\")\n",
    "df_rep = pd.read_csv(datasets_path + \"down_detector_reported_problem_count.csv\")\n"
   ]
  },
  {
   "cell_type": "code",
   "execution_count": null,
   "metadata": {},
   "outputs": [],
   "source": [
    "# Basic stats reports with table \n",
    "providers = {\n",
    "    \"aws\": \"Amazon Web Services\",\n",
    "    \"gcp\": \"Google Cloud Platform\",\n",
    "    \"azure\": \"Microsoft Azure\"\n",
    "}\n",
    "    \n",
    "event_count_vals = df.groupby(\"provider\")[\"event_id\"].max()\n",
    "report_count_vals = df.groupby(\"provider\")[\"count\"].sum()\n",
    "detail_event_count_vals = df_rep.dropna().groupby(\"provider\")[\"event_id\"].nunique()\n",
    "\n",
    "table_df = pd.DataFrame(columns=[\"Report count\", \"Event count\", \"Detailed event count\", \"Detailed event count %\"])\n",
    "table_df[\"Event count\"] = event_count_vals\n",
    "table_df[\"Report count\"] = report_count_vals\n",
    "table_df[\"Detailed event count\"] = detail_event_count_vals\n",
    "table_df[\"Detailed event count %\"] = (detail_event_count_vals / event_count_vals) * 100\n",
    "table_df.rename(index=providers, inplace=True)\n",
    "table_df.sort_values(\"Report count\", inplace=True)\n",
    "\n",
    "print(table_df.reset_index().to_latex(index=None, float_format=\"%.2f\"))"
   ]
  },
  {
   "cell_type": "code",
   "execution_count": null,
   "metadata": {},
   "outputs": [],
   "source": [
    "\n",
    "# Total for above table\n",
    "report_count = table_df[\"Report count\"].sum()\n",
    "event_count = table_df[\"Event count\"].sum()\n",
    "detailed_event_count = table_df[\"Detailed event count\"].sum()\n",
    "\n",
    "detailed_event_percent = 100 * (table_df[\"Detailed event count\"].sum() / table_df[\"Event count\"].sum())\n",
    "report_count, event_count, event_count, detailed_event_percent\n",
    "\n",
    "general_df = pd.DataFrame(columns=[\"Dataset\", \"Count\", \"Date range\"])\n",
    "general_df[\"Dataset\"] = [\"Reports\", \"Events\", \"Detailed Events\"]\n",
    "general_df[\"Count\"] = [report_count, event_count, detailed_event_count]\n",
    "general_df[\"Date range\"] = [\"4 Jan. 2018 - 19 Dec. 2020\", \"4 Jan. 2018 - 19 Dec. 2020\", \"4 Jan. 2018 - 19 Dec. 2020\"]\n",
    "\n",
    "print(general_df.to_latex(index=None))"
   ]
  }
 ],
 "metadata": {
  "kernelspec": {
   "display_name": "Python 3",
   "language": "python",
   "name": "python3"
  },
  "language_info": {
   "codemirror_mode": {
    "name": "ipython",
    "version": 3
   },
   "file_extension": ".py",
   "mimetype": "text/x-python",
   "name": "python",
   "nbconvert_exporter": "python",
   "pygments_lexer": "ipython3",
   "version": "3.8.5"
  }
 },
 "nbformat": 4,
 "nbformat_minor": 4
}
